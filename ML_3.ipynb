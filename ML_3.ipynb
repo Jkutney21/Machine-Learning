{
  "nbformat": 4,
  "nbformat_minor": 0,
  "metadata": {
    "colab": {
      "provenance": []
    },
    "kernelspec": {
      "name": "python3",
      "display_name": "Python 3"
    },
    "language_info": {
      "name": "python"
    }
  },
  "cells": [
    {
      "cell_type": "markdown",
      "source": [
        "1. Use a Python code to display the given pattern using the for loop.\n",
        "\n",
        "---"
      ],
      "metadata": {
        "id": "0IXmXG24BAHR"
      }
    },
    {
      "cell_type": "code",
      "execution_count": 4,
      "metadata": {
        "colab": {
          "base_uri": "https://localhost:8080/"
        },
        "id": "7iN1xoxaA5b0",
        "outputId": "71b94ec5-83f3-427d-eb1f-a02dbd51cce6"
      },
      "outputs": [
        {
          "output_type": "stream",
          "name": "stdout",
          "text": [
            "* \n",
            "* * \n",
            "* * * \n",
            "* * * * \n",
            "* * * * * \n",
            "* * * * \n",
            "* * * \n",
            "* * \n",
            "* \n"
          ]
        }
      ],
      "source": [
        "for i in range(1, 6):\n",
        "    print(\"* \" * i)\n",
        "\n",
        "for i in range(4, 0, -1):\n",
        "    print(\"* \" * i)\n"
      ]
    },
    {
      "cell_type": "markdown",
      "source": [
        "2\n",
        "\n",
        "---\n",
        "\n",
        "\n",
        "[] Explain the difference between Counter.count and self._count.\n",
        "\n",
        "Counter is its own instance of the counter class. Self is just its own instance.\n",
        "\n",
        "\n",
        "[] What is the output of a.get_counts() and b.get_counts()?\n",
        "\n",
        "\n",
        "Output: Instance count: 2, Class count: 3\n",
        "\n",
        "\n",
        "Output: Instance count: 1, Class count: 3\n",
        "\n",
        "\n",
        "[] How does the increment method affect both the class and instance variables?\n",
        "\n",
        "be cause it is incrementing both the class and it's self"
      ],
      "metadata": {
        "id": "0LCjEseQCG0T"
      }
    },
    {
      "cell_type": "markdown",
      "source": [
        "3 Find and remove the bug from the code to obtain the given output.\n",
        "\n",
        "---"
      ],
      "metadata": {
        "id": "lRCTtqACC9Ut"
      }
    },
    {
      "cell_type": "code",
      "source": [
        "def sum_all(*args):\n",
        "    return sum(args)\n",
        "\n",
        "print(\"Sum of 1, 2, 3 is:\", sum_all(1, 2, 3))\n",
        "print(\"Sum of 4, 5, 6, 7 is:\", sum_all(4, 5, 6, 7))"
      ],
      "metadata": {
        "colab": {
          "base_uri": "https://localhost:8080/"
        },
        "id": "0IGVHC9ACGhl",
        "outputId": "a1d0522f-715b-4ed1-c5bb-7daf16935507"
      },
      "execution_count": 24,
      "outputs": [
        {
          "output_type": "stream",
          "name": "stdout",
          "text": [
            "Sum of 1, 2, 3 is: 6\n",
            "Sum of 4, 5, 6, 7 is: 22\n"
          ]
        }
      ]
    },
    {
      "cell_type": "markdown",
      "source": [
        "4 Use looping to output the elements from a provided list present at odd\n",
        "indexes.\n",
        "\n",
        "---"
      ],
      "metadata": {
        "id": "lcWMC96-DL2n"
      }
    },
    {
      "cell_type": "code",
      "source": [
        "my_list = [10, 20, 30, 40, 50, 60, 70, 80, 90, 100]\n",
        "\n",
        "for i in range(len(my_list)):\n",
        "    if i % 2 == 0 or 1 ==0:\n",
        "       print(my_list[i])\n",
        "\n"
      ],
      "metadata": {
        "colab": {
          "base_uri": "https://localhost:8080/"
        },
        "id": "MRmztRNpDY2R",
        "outputId": "db3a5139-7b44-403c-d64c-357c54908b57"
      },
      "execution_count": 23,
      "outputs": [
        {
          "output_type": "stream",
          "name": "stdout",
          "text": [
            "10\n",
            "30\n",
            "50\n",
            "70\n",
            "90\n"
          ]
        }
      ]
    },
    {
      "cell_type": "markdown",
      "source": [
        "5. Write a function that takes a list and returns a new list with unique items of the\n",
        "first list.\n",
        "\n",
        "---\n"
      ],
      "metadata": {
        "id": "xzo6hEXBEL-w"
      }
    },
    {
      "cell_type": "code",
      "source": [
        "def unique_list():\n",
        "    x = input(\"Give an array of integers (separate by spaces): \")\n",
        "    x = list(map(int, x.split()))\n",
        "    unique = []\n",
        "    for a in x:\n",
        "        if a not in unique:\n",
        "            unique.append(a)\n",
        "    return unique\n",
        "\n",
        "\n",
        "result = unique_list()\n",
        "print(\"Unique elements:\", result)\n"
      ],
      "metadata": {
        "colab": {
          "base_uri": "https://localhost:8080/"
        },
        "id": "o60xj4UdEgn5",
        "outputId": "80da398d-af78-4586-c07a-fbb1881feaec"
      },
      "execution_count": 18,
      "outputs": [
        {
          "output_type": "stream",
          "name": "stdout",
          "text": [
            "Give an array of integers (separate by spaces): 1 2 2 3\n",
            "Unique elements: [1, 2, 3]\n"
          ]
        }
      ]
    },
    {
      "cell_type": "markdown",
      "source": [
        "6. Create a class Employee and then do the following\n",
        "---\n",
        "[] Create a data member to count the number of Employees\n",
        "\n",
        "\n",
        "[] Create a constructor to initialize name,family, salary, department\n",
        "\n",
        "\n",
        "[] Create a function to average salary\n",
        "\n",
        "\n",
        "[] Create a Fulltime Employee class and it should\n",
        "inheritthe properties ofthe Employee class\n",
        "\n",
        "\n",
        "[] Create the instances ofthe Fulltime Employee class and Employee class and calltheirmember\n",
        "functions."
      ],
      "metadata": {
        "id": "mq4X8nA0FZnI"
      }
    },
    {
      "cell_type": "code",
      "source": [
        "class Employee:\n",
        "    employee_count = 0\n",
        "\n",
        "    def __init__(self, name, family, salary, department):\n",
        "        self.name = name\n",
        "        self.family = family\n",
        "        self.salary = salary\n",
        "        self.department = department\n",
        "        Employee.employee_count += 1\n",
        "\n",
        "    def average_salary(self, employees):\n",
        "        \"\"\"Calculates the average salary of a list of employees.\"\"\"\n",
        "        if not employees:\n",
        "            return 0\n",
        "        total_salary = sum(employee.salary for employee in employees)\n",
        "        return total_salary / len(employees)\n",
        "\n",
        "\n",
        "class FulltimeEmployee(Employee):\n",
        "    def __init__(self, name, family, salary, department):\n",
        "        super().__init__(name, family, salary, department)\n",
        "\n",
        "\n",
        "\n",
        "employee1 = Employee(\"John\", \"Doe\", 60000, \"HR\")\n",
        "employee2 = Employee(\"Jane\", \"Smith\", 70000, \"IT\")\n",
        "fulltime_employee1 = FulltimeEmployee(\"Alice\", \"Johnson\", 80000, \"Sales\")\n",
        "\n",
        "\n",
        "employees = [employee1, employee2, fulltime_employee1]\n",
        "avg_salary = employee1.average_salary(employees)\n",
        "\n",
        "print(f\"Average salary: {avg_salary}\")\n",
        "print(f\"Total Employee Count: {Employee.employee_count}\")"
      ],
      "metadata": {
        "id": "EKKYfbKbGRJH"
      },
      "execution_count": null,
      "outputs": []
    }
  ]
}