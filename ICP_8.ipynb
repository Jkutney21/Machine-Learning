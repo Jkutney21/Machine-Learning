{
  "cells": [
    {
      "cell_type": "markdown",
      "metadata": {
        "colab_type": "text",
        "id": "view-in-github"
      },
      "source": [
        "<a href=\"https://colab.research.google.com/github/aidanbolinger/MachineLearning/blob/main/ICP_8_(1).ipynb\" target=\"_parent\"><img src=\"https://colab.research.google.com/assets/colab-badge.svg\" alt=\"Open In Colab\"/></a>"
      ]
    },
    {
      "cell_type": "code",
      "execution_count": null,
      "metadata": {
        "colab": {
          "base_uri": "https://localhost:8080/"
        },
        "id": "nSc3IOaQNQu2",
        "outputId": "0e7a68d3-9525-4918-9fab-fcec74c8157e"
      },
      "outputs": [
        {
          "name": "stdout",
          "output_type": "stream",
          "text": [
            "Drive already mounted at /content/drive; to attempt to forcibly remount, call drive.mount(\"/content/drive\", force_remount=True).\n",
            "\n",
            "---Classifier: RandomForestClassifier, CV Folds: 3 ---\n"
          ]
        },
        {
          "name": "stderr",
          "output_type": "stream",
          "text": [
            "/usr/local/lib/python3.11/dist-packages/sklearn/model_selection/_search.py:317: UserWarning: The total space of parameters 9 is smaller than n_iter=10. Running 9 iterations. For exhaustive searches, use GridSearchCV.\n",
            "  warnings.warn(\n"
          ]
        },
        {
          "name": "stdout",
          "output_type": "stream",
          "text": [
            "Best parameters found: {'pca__n_components': 2, 'classifier__n_estimators': 50, 'classifier__max_depth': None}\n",
            "Best cross-validation score: 0.93\n",
            "Test set score: 0.93\n",
            "\n",
            "---Classifier: RandomForestClassifier, CV Folds: 5 ---\n"
          ]
        },
        {
          "name": "stderr",
          "output_type": "stream",
          "text": [
            "/usr/local/lib/python3.11/dist-packages/sklearn/model_selection/_search.py:317: UserWarning: The total space of parameters 9 is smaller than n_iter=10. Running 9 iterations. For exhaustive searches, use GridSearchCV.\n",
            "  warnings.warn(\n"
          ]
        },
        {
          "name": "stdout",
          "output_type": "stream",
          "text": [
            "Best parameters found: {'pca__n_components': 2, 'classifier__n_estimators': 50, 'classifier__max_depth': None}\n",
            "Best cross-validation score: 0.94\n",
            "Test set score: 0.93\n",
            "\n",
            "---Classifier: RandomForestClassifier, CV Folds: 7 ---\n"
          ]
        },
        {
          "name": "stderr",
          "output_type": "stream",
          "text": [
            "/usr/local/lib/python3.11/dist-packages/sklearn/model_selection/_search.py:317: UserWarning: The total space of parameters 9 is smaller than n_iter=10. Running 9 iterations. For exhaustive searches, use GridSearchCV.\n",
            "  warnings.warn(\n"
          ]
        },
        {
          "name": "stdout",
          "output_type": "stream",
          "text": [
            "Best parameters found: {'pca__n_components': 2, 'classifier__n_estimators': 50, 'classifier__max_depth': None}\n",
            "Best cross-validation score: 0.96\n",
            "Test set score: 0.93\n",
            "\n",
            "---Classifier: LogisticRegression, CV Folds: 3 ---\n"
          ]
        },
        {
          "name": "stderr",
          "output_type": "stream",
          "text": [
            "/usr/local/lib/python3.11/dist-packages/sklearn/model_selection/_search.py:317: UserWarning: The total space of parameters 4 is smaller than n_iter=10. Running 4 iterations. For exhaustive searches, use GridSearchCV.\n",
            "  warnings.warn(\n"
          ]
        },
        {
          "name": "stdout",
          "output_type": "stream",
          "text": [
            "Best parameters found: {'pca__n_components': 2, 'classifier__solver': 'lbfgs', 'classifier__penalty': 'l2', 'classifier__C': 1}\n",
            "Best cross-validation score: 0.98\n",
            "Test set score: 0.86\n",
            "\n",
            "---Classifier: LogisticRegression, CV Folds: 5 ---\n"
          ]
        },
        {
          "name": "stderr",
          "output_type": "stream",
          "text": [
            "/usr/local/lib/python3.11/dist-packages/sklearn/model_selection/_search.py:317: UserWarning: The total space of parameters 4 is smaller than n_iter=10. Running 4 iterations. For exhaustive searches, use GridSearchCV.\n",
            "  warnings.warn(\n"
          ]
        },
        {
          "name": "stdout",
          "output_type": "stream",
          "text": [
            "Best parameters found: {'pca__n_components': 2, 'classifier__solver': 'lbfgs', 'classifier__penalty': 'l2', 'classifier__C': 1}\n",
            "Best cross-validation score: 0.98\n",
            "Test set score: 0.86\n",
            "\n",
            "---Classifier: LogisticRegression, CV Folds: 7 ---\n"
          ]
        },
        {
          "name": "stderr",
          "output_type": "stream",
          "text": [
            "/usr/local/lib/python3.11/dist-packages/sklearn/model_selection/_search.py:317: UserWarning: The total space of parameters 4 is smaller than n_iter=10. Running 4 iterations. For exhaustive searches, use GridSearchCV.\n",
            "  warnings.warn(\n"
          ]
        },
        {
          "name": "stdout",
          "output_type": "stream",
          "text": [
            "Best parameters found: {'pca__n_components': 2, 'classifier__solver': 'lbfgs', 'classifier__penalty': 'l2', 'classifier__C': 1}\n",
            "Best cross-validation score: 0.98\n",
            "Test set score: 0.86\n",
            "\n",
            "---Classifier: Perceptron, CV Folds: 3 ---\n"
          ]
        },
        {
          "name": "stderr",
          "output_type": "stream",
          "text": [
            "/usr/local/lib/python3.11/dist-packages/sklearn/model_selection/_search.py:317: UserWarning: The total space of parameters 6 is smaller than n_iter=10. Running 6 iterations. For exhaustive searches, use GridSearchCV.\n",
            "  warnings.warn(\n"
          ]
        },
        {
          "name": "stdout",
          "output_type": "stream",
          "text": [
            "Best parameters found: {'pca__n_components': 2, 'classifier__penalty': 'l2', 'classifier__alpha': 0.0001}\n",
            "Best cross-validation score: 0.98\n",
            "Test set score: 0.93\n",
            "\n",
            "---Classifier: Perceptron, CV Folds: 5 ---\n"
          ]
        },
        {
          "name": "stderr",
          "output_type": "stream",
          "text": [
            "/usr/local/lib/python3.11/dist-packages/sklearn/model_selection/_search.py:317: UserWarning: The total space of parameters 6 is smaller than n_iter=10. Running 6 iterations. For exhaustive searches, use GridSearchCV.\n",
            "  warnings.warn(\n"
          ]
        },
        {
          "name": "stdout",
          "output_type": "stream",
          "text": [
            "Best parameters found: {'pca__n_components': 2, 'classifier__penalty': 'l1', 'classifier__alpha': 0.01}\n",
            "Best cross-validation score: 1.00\n",
            "Test set score: 1.00\n",
            "\n",
            "---Classifier: Perceptron, CV Folds: 7 ---\n"
          ]
        },
        {
          "name": "stderr",
          "output_type": "stream",
          "text": [
            "/usr/local/lib/python3.11/dist-packages/sklearn/model_selection/_search.py:317: UserWarning: The total space of parameters 6 is smaller than n_iter=10. Running 6 iterations. For exhaustive searches, use GridSearchCV.\n",
            "  warnings.warn(\n"
          ]
        },
        {
          "name": "stdout",
          "output_type": "stream",
          "text": [
            "Best parameters found: {'pca__n_components': 2, 'classifier__penalty': 'l2', 'classifier__alpha': 0.001}\n",
            "Best cross-validation score: 0.98\n",
            "Test set score: 0.86\n",
            "\n",
            "---Classifier: KNeighborsClassifier, CV Folds: 3 ---\n"
          ]
        },
        {
          "name": "stderr",
          "output_type": "stream",
          "text": [
            "/usr/local/lib/python3.11/dist-packages/sklearn/model_selection/_search.py:317: UserWarning: The total space of parameters 6 is smaller than n_iter=10. Running 6 iterations. For exhaustive searches, use GridSearchCV.\n",
            "  warnings.warn(\n"
          ]
        },
        {
          "name": "stdout",
          "output_type": "stream",
          "text": [
            "Best parameters found: {'pca__n_components': 2, 'classifier__weights': 'distance', 'classifier__n_neighbors': 5}\n",
            "Best cross-validation score: 0.93\n",
            "Test set score: 0.86\n",
            "\n",
            "---Classifier: KNeighborsClassifier, CV Folds: 5 ---\n"
          ]
        },
        {
          "name": "stderr",
          "output_type": "stream",
          "text": [
            "/usr/local/lib/python3.11/dist-packages/sklearn/model_selection/_search.py:317: UserWarning: The total space of parameters 6 is smaller than n_iter=10. Running 6 iterations. For exhaustive searches, use GridSearchCV.\n",
            "  warnings.warn(\n"
          ]
        },
        {
          "name": "stdout",
          "output_type": "stream",
          "text": [
            "Best parameters found: {'pca__n_components': 2, 'classifier__weights': 'distance', 'classifier__n_neighbors': 5}\n",
            "Best cross-validation score: 0.96\n",
            "Test set score: 0.86\n",
            "\n",
            "---Classifier: KNeighborsClassifier, CV Folds: 7 ---\n"
          ]
        },
        {
          "name": "stderr",
          "output_type": "stream",
          "text": [
            "/usr/local/lib/python3.11/dist-packages/sklearn/model_selection/_search.py:317: UserWarning: The total space of parameters 6 is smaller than n_iter=10. Running 6 iterations. For exhaustive searches, use GridSearchCV.\n",
            "  warnings.warn(\n"
          ]
        },
        {
          "name": "stdout",
          "output_type": "stream",
          "text": [
            "Best parameters found: {'pca__n_components': 2, 'classifier__weights': 'uniform', 'classifier__n_neighbors': 3}\n",
            "Best cross-validation score: 0.98\n",
            "Test set score: 0.86\n"
          ]
        }
      ],
      "source": [
        "from sklearn.datasets import load_iris\n",
        "from sklearn.model_selection import ParameterGrid, RandomizedSearchCV, train_test_split\n",
        "from sklearn.preprocessing import StandardScaler\n",
        "from sklearn.decomposition import PCA\n",
        "from sklearn.pipeline import Pipeline\n",
        "from sklearn.ensemble import RandomForestClassifier\n",
        "from sklearn.linear_model import LogisticRegression, Perceptron\n",
        "from sklearn.neighbors import KNeighborsClassifier\n",
        "import pandas as pd\n",
        "from google.colab import drive\n",
        "\n",
        "# Load dataset\n",
        "drive.mount('/content/drive')\n",
        "data = pd.read_csv(\"/content/drive/MyDrive/Data.csv\")\n",
        "X = data.drop(\"Grade\", axis=1)\n",
        "y = data[\"Grade\"]\n",
        "X_train, X_test, y_train, y_test = train_test_split(X, y, test_size=0.2, random_state=42)\n",
        "\n",
        "n_features = X.shape[1]\n",
        "valid_pca_components = [n for n in [2, 5, 10] if n <= n_features]\n",
        "\n",
        "# Define classifiers\n",
        "classifiers = {\n",
        "    'RandomForestClassifier': (\n",
        "        RandomForestClassifier(random_state=42),\n",
        "        {\n",
        "            'pca__n_components': valid_pca_components,\n",
        "            'classifier__n_estimators': [50, 100, 200],\n",
        "            'classifier__max_depth': [None, 10, 20]\n",
        "        }\n",
        "    ),\n",
        "    'LogisticRegression': (\n",
        "        LogisticRegression(max_iter=1000, random_state=42),\n",
        "        {\n",
        "            'pca__n_components': valid_pca_components,\n",
        "            'classifier__C': [0.01, 0.1, 1, 10],\n",
        "            'classifier__penalty': ['l2'],\n",
        "            'classifier__solver': ['lbfgs']\n",
        "        }\n",
        "    ),\n",
        "    'Perceptron': (\n",
        "        Perceptron(max_iter=1000, random_state=42),\n",
        "        {\n",
        "            'pca__n_components': valid_pca_components,\n",
        "            'classifier__penalty': ['l2', 'l1'],\n",
        "            'classifier__alpha': [0.0001, 0.001, 0.01],\n",
        "        }\n",
        "    ),\n",
        "    'KNeighborsClassifier': (\n",
        "        KNeighborsClassifier(),\n",
        "        {\n",
        "            'pca__n_components': valid_pca_components,\n",
        "            'classifier__n_neighbors': [3, 5, 7],\n",
        "            'classifier__weights': ['uniform', 'distance'],\n",
        "        }\n",
        "    )\n",
        "}\n",
        "\n",
        "# Cross-validation folds\n",
        "cv_folds = [3, 5, 7]\n",
        "\n",
        "# Loop through classifiers and CV options\n",
        "for clf_name, (clf, param_grid) in classifiers.items():\n",
        "    for cv_fold in cv_folds:\n",
        "        print(f\"\\n---Classifier: {clf_name}, CV Folds: {cv_fold} ---\")\n",
        "\n",
        "        # Create pipeline\n",
        "        pipe = Pipeline([\n",
        "            ('scaler', StandardScaler()),\n",
        "            ('pca', PCA()),\n",
        "            ('classifier', clf)\n",
        "        ])\n",
        "        \n",
        "        # Calculate total parameter combinations and set n_iter\n",
        "        total_params = len(ParameterGrid(param_grid))\n",
        "        n_iter = min(10, total_params)\n",
        "        \n",
        "        # RandomizedSearchCV\n",
        "        random_search = RandomizedSearchCV(\n",
        "            pipe, \n",
        "            param_distributions=param_grid, \n",
        "            n_iter=n_iter, \n",
        "            cv=cv_fold, \n",
        "            random_state=42, \n",
        "            n_jobs=-1\n",
        "        )\n",
        "        random_search.fit(X_train, y_train)\n",
        "\n",
        "        # Results\n",
        "        print(\"Best parameters found:\", random_search.best_params_)\n",
        "        print(f\"Best cross-validation score: {random_search.best_score_:.2f}\")\n",
        "        print(f\"Test set score: {random_search.score(X_test, y_test):.2f}\")"
      ]
    },
    {
      "cell_type": "markdown",
      "metadata": {
        "id": "tqJp7J-jNbu6"
      },
      "source": [
        "Check for 3 fold, 5 fold and 7 fold cross validation\n",
        "\n",
        "Replace classifier, SVC with RandomForestClassifier and LogisticRegression, Perceptron, knn .\n",
        "\n",
        "Update the param_grid accordingly (e.g., for RandomForestClassifier, use n_estimators, max_depth, etc.)\n",
        "\n",
        "Also replace Gridsearch with randomnsearch function.\n",
        "\n",
        "Relplace with with your own csv dataset using code below:"
      ]
    },
    {
      "cell_type": "code",
      "execution_count": null,
      "metadata": {
        "id": "aUipqQf8Pcao"
      },
      "outputs": [],
      "source": [
        "import pandas as pd\n",
        "\n",
        "data = pd.read_csv(\"your_dataset.csv\")\n",
        "X = data.drop(\"target_column\", axis=1)\n",
        "y = data[\"target_column\"]\n"
      ]
    }
  ],
  "metadata": {
    "colab": {
      "include_colab_link": true,
      "provenance": []
    },
    "kernelspec": {
      "display_name": "Python 3",
      "name": "python3"
    },
    "language_info": {
      "name": "python"
    }
  },
  "nbformat": 4,
  "nbformat_minor": 0
}
